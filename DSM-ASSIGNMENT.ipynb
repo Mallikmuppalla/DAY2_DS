{
 "cells": [
  {
   "cell_type": "code",
   "execution_count": 28,
   "id": "9c0c92af-e8d7-484d-bec8-779d17ef3e13",
   "metadata": {},
   "outputs": [
    {
     "name": "stdout",
     "output_type": "stream",
     "text": [
      "* * * * * * * * * * \n",
      "* * * * * * * * * * \n",
      "* * * * * * * * * * \n",
      "* * * * * * * * * * \n",
      "* * * * * * * * * * \n",
      "* * * * * * * * * * \n",
      "* * * * * * * * * * \n",
      "* * * * * * * * * * \n",
      "* * * * * * * * * * \n",
      "* * * * * * * * * * \n"
     ]
    }
   ],
   "source": [
    "n=10\n",
    "\n",
    "for i in range(n):\n",
    "    for j in range(n):\n",
    "        print(\"*\",end=\" \")\n",
    "    print(\"\")"
   ]
  },
  {
   "cell_type": "code",
   "execution_count": 29,
   "id": "4f5c95dd-2eb4-4677-8efa-7d6b7d58d586",
   "metadata": {},
   "outputs": [
    {
     "name": "stdout",
     "output_type": "stream",
     "text": [
      "* * * * * * * * * * \n",
      "* * * * * * * * * \n",
      "* * * * * * * * \n",
      "* * * * * * * \n",
      "* * * * * * \n",
      "* * * * * \n",
      "* * * * \n",
      "* * * \n",
      "* * \n",
      "* \n"
     ]
    }
   ],
   "source": [
    "n=10\n",
    "\n",
    "for i in range(n):\n",
    "    for j in range(i,n):\n",
    "        print(\"*\",end=\" \")\n",
    "    print(\"\\r\")"
   ]
  },
  {
   "cell_type": "code",
   "execution_count": 30,
   "id": "b14f1c33-ccad-4e24-b2bc-4b8032a89007",
   "metadata": {},
   "outputs": [
    {
     "name": "stdout",
     "output_type": "stream",
     "text": [
      "* \n",
      "* * \n",
      "* * * \n",
      "* * * * \n",
      "* * * * * \n",
      "* * * * * * \n",
      "* * * * * * * \n",
      "* * * * * * * * \n",
      "* * * * * * * * * \n",
      "* * * * * * * * * * \n"
     ]
    }
   ],
   "source": [
    "n=10\n",
    "\n",
    "for i in range(n):\n",
    "    for j in range(i+1):\n",
    "        print(\"*\",end=\" \")\n",
    "    print(\"\\r\")"
   ]
  },
  {
   "cell_type": "code",
   "execution_count": 31,
   "id": "4d355f60-33df-4ef1-9c72-3dfd9babb580",
   "metadata": {},
   "outputs": [
    {
     "name": "stdout",
     "output_type": "stream",
     "text": [
      "* * * * * * * * * * \n",
      "* * * * * * * * * \n",
      "* * * * * * * * \n",
      "* * * * * * * \n",
      "* * * * * * \n",
      "* * * * * \n",
      "* * * * \n",
      "* * * \n",
      "* * \n",
      "* \n"
     ]
    }
   ],
   "source": [
    "n=10\n",
    "\n",
    "for i in range(n):\n",
    "    for j in range(n-i):\n",
    "        print(\"*\",end=\" \")\n",
    "    print(\"\\r\")"
   ]
  },
  {
   "cell_type": "code",
   "execution_count": 32,
   "id": "34b59684-8df4-4462-8725-00ca477c6757",
   "metadata": {},
   "outputs": [
    {
     "name": "stdout",
     "output_type": "stream",
     "text": [
      "         * \n",
      "        * * \n",
      "       * * * \n",
      "      * * * * \n",
      "     * * * * * \n",
      "    * * * * * * \n",
      "   * * * * * * * \n",
      "  * * * * * * * * \n",
      " * * * * * * * * * \n",
      "* * * * * * * * * * \n"
     ]
    }
   ],
   "source": [
    "n=10\n",
    "\n",
    "for i in range(n):\n",
    "    for j in range(n-i-1):\n",
    "        print(\" \",end=\"\")\n",
    "    for j in range(i+1):\n",
    "        print(\"*\",end=\" \")\n",
    "    print(\"\\r\")"
   ]
  },
  {
   "cell_type": "code",
   "execution_count": null,
   "id": "b80cdd9b-5918-4562-a62f-c9de4a67d39e",
   "metadata": {},
   "outputs": [],
   "source": []
  },
  {
   "cell_type": "code",
   "execution_count": null,
   "id": "813c94dc-7205-469a-b228-0a04f5ac46b7",
   "metadata": {},
   "outputs": [],
   "source": []
  }
 ],
 "metadata": {
  "kernelspec": {
   "display_name": "Python 3 (ipykernel)",
   "language": "python",
   "name": "python3"
  },
  "language_info": {
   "codemirror_mode": {
    "name": "ipython",
    "version": 3
   },
   "file_extension": ".py",
   "mimetype": "text/x-python",
   "name": "python",
   "nbconvert_exporter": "python",
   "pygments_lexer": "ipython3",
   "version": "3.10.8"
  }
 },
 "nbformat": 4,
 "nbformat_minor": 5
}
